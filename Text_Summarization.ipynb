{
 "cells": [
  {
   "cell_type": "markdown",
   "id": "83ded505-d541-4b35-b527-90b855c8f4de",
   "metadata": {
    "tags": []
   },
   "source": [
    "# Text Summarization"
   ]
  },
  {
   "cell_type": "markdown",
   "id": "e4db3828-7fc7-46dc-aa15-5752e05af498",
   "metadata": {},
   "source": [
    "## Installing dependencies"
   ]
  },
  {
   "cell_type": "code",
   "execution_count": null,
   "id": "157c5699-97c8-4d73-82d1-1d7af945fed5",
   "metadata": {},
   "outputs": [],
   "source": [
    "!pip install transformers\n",
    "!pip install torch\n",
    "!pip install rouge-score\n",
    "!pip install datasets"
   ]
  },
  {
   "cell_type": "code",
   "execution_count": null,
   "id": "ec5c6139-3ca9-41de-a84d-f3c259dbe0b6",
   "metadata": {},
   "outputs": [],
   "source": [
    "import nltk\n",
    "import pandas as pd\n",
    "import torch\n",
    "from transformers import PegasusTokenizer, PegasusForConditionalGeneration\n",
    "from datasets import load_dataset\n",
    "from rouge_score import rouge_scorer\n",
    "from concurrent.futures import ThreadPoolExecutor"
   ]
  },
  {
   "cell_type": "code",
   "execution_count": 2,
   "id": "dee264d7-58fa-4898-bc60-5eab64fb8370",
   "metadata": {
    "tags": []
   },
   "outputs": [
    {
     "name": "stderr",
     "output_type": "stream",
     "text": [
      "[nltk_data] Downloading package punkt to\n",
      "[nltk_data]     C:\\Users\\alias\\AppData\\Roaming\\nltk_data...\n",
      "[nltk_data]   Package punkt is already up-to-date!\n"
     ]
    },
    {
     "data": {
      "text/plain": [
       "True"
      ]
     },
     "execution_count": 2,
     "metadata": {},
     "output_type": "execute_result"
    }
   ],
   "source": [
    "nltk.download('punkt')"
   ]
  },
  {
   "cell_type": "markdown",
   "id": "098095fa-0906-41bc-b05e-4aa340a43b36",
   "metadata": {},
   "source": [
    "## Importing and Initalizaing Tranformer andd Pegasus models from Hugging Face"
   ]
  },
  {
   "cell_type": "code",
   "execution_count": 3,
   "id": "44d86eb1-6e60-4286-95e8-3121beb35d03",
   "metadata": {
    "tags": []
   },
   "outputs": [
    {
     "name": "stderr",
     "output_type": "stream",
     "text": [
      "Some weights of PegasusForConditionalGeneration were not initialized from the model checkpoint at google/pegasus-large and are newly initialized: ['model.encoder.embed_positions.weight', 'model.decoder.embed_positions.weight']\n",
      "You should probably TRAIN this model on a down-stream task to be able to use it for predictions and inference.\n",
      "Some weights of PegasusForConditionalGeneration were not initialized from the model checkpoint at google/pegasus-arxiv and are newly initialized: ['model.encoder.embed_positions.weight', 'model.decoder.embed_positions.weight']\n",
      "You should probably TRAIN this model on a down-stream task to be able to use it for predictions and inference.\n"
     ]
    }
   ],
   "source": [
    "tokenizer = PegasusTokenizer.from_pretrained(\"google/pegasus-large\")\n",
    "model_base = PegasusForConditionalGeneration.from_pretrained(\"google/pegasus-large\")\n",
    "model_finetuned = PegasusForConditionalGeneration.from_pretrained(\"google/pegasus-arxiv\")"
   ]
  },
  {
   "cell_type": "markdown",
   "id": "30bbdd1c-b009-4c9f-883f-c30ac6e9cffb",
   "metadata": {},
   "source": [
    "### Moving the models to GPU if CUDA available"
   ]
  },
  {
   "cell_type": "code",
   "execution_count": 4,
   "id": "82d1b75f-e24c-43cb-8c66-f6edacabc8f8",
   "metadata": {
    "tags": []
   },
   "outputs": [],
   "source": [
    "# Moving models to GPU if CUDA is available\n",
    "if torch.cuda.is_available():\n",
    "    model_base = model_base.to('cuda')\n",
    "    model_finetuned = model_finetuned.to('cuda')"
   ]
  },
  {
   "cell_type": "markdown",
   "id": "334ead7d-24ce-41ed-a2a7-ea8d6d06f690",
   "metadata": {},
   "source": [
    "## Creating a Preprocessing Pipeline"
   ]
  },
  {
   "cell_type": "code",
   "execution_count": 5,
   "id": "7659da96-9fea-4ce1-b48a-e1a628280fe8",
   "metadata": {
    "tags": []
   },
   "outputs": [],
   "source": [
    "def chunk_text(text, max_tokens, tokenizer):\n",
    "    sentences = nltk.tokenize.sent_tokenize(text)\n",
    "    current_chunk = []\n",
    "    chunks = []\n",
    "    current_len = 0\n",
    "\n",
    "    for sentence in sentences:\n",
    "        sentence_len = len(tokenizer.encode(sentence))\n",
    "        if current_len + sentence_len > max_tokens:\n",
    "            chunks.append(\" \".join(current_chunk))\n",
    "            current_chunk = []\n",
    "            current_len = 0\n",
    "        current_chunk.append(sentence)\n",
    "        current_len += sentence_len\n",
    "\n",
    "    if current_chunk:\n",
    "        chunks.append(\" \".join(current_chunk))\n",
    "\n",
    "    return chunks"
   ]
  },
  {
   "cell_type": "code",
   "execution_count": 6,
   "id": "52776935-adf3-4064-8efa-52ec2f5d63b7",
   "metadata": {
    "tags": []
   },
   "outputs": [],
   "source": [
    "def prepare_batches(texts, max_tokens, batch_size):\n",
    "    for text in texts:\n",
    "        chunks = chunk_text(text, max_tokens, tokenizer)\n",
    "        for i in range(0, len(chunks), batch_size):\n",
    "            yield chunks[i:i + batch_size]"
   ]
  },
  {
   "cell_type": "code",
   "execution_count": 7,
   "id": "c845bf75-6806-44db-8260-be17e78d5b44",
   "metadata": {
    "tags": []
   },
   "outputs": [],
   "source": [
    "def summarize_batch(model, batch):\n",
    "    batch_tokens = tokenizer(batch, truncation=True, padding=True, return_tensors=\"pt\")\n",
    "    if torch.cuda.is_available():\n",
    "        batch_tokens = {key: val.to('cuda') for key, val in batch_tokens.items()}\n",
    "    summary_ids = model.generate(**batch_tokens, max_length=150, min_length=40, length_penalty=2.0, num_beams=4, early_stopping=True)\n",
    "    return [tokenizer.decode(ids, skip_special_tokens=True) for ids in summary_ids]\n"
   ]
  },
  {
   "cell_type": "code",
   "execution_count": 8,
   "id": "6d0b34a8-e350-4da9-b223-fe20048a89dc",
   "metadata": {
    "tags": []
   },
   "outputs": [],
   "source": [
    "def generate_summary(model, texts, max_tokens=512, batch_size=4):\n",
    "    all_summaries = []\n",
    "    with ThreadPoolExecutor() as executor:\n",
    "        for text in texts:\n",
    "            futures = []\n",
    "            chunks = chunk_text(text, max_tokens, tokenizer)\n",
    "            for i in range(0, len(chunks), batch_size):\n",
    "                batch = chunks[i:i + batch_size]\n",
    "                futures.append(executor.submit(summarize_batch, model, batch))\n",
    "\n",
    "            # combining the summaries of all chunks from the same document\n",
    "            document_summary = \" \".join([chunk for future in futures for chunk in future.result()])\n",
    "            all_summaries.append(document_summary)\n",
    "    return all_summaries"
   ]
  },
  {
   "cell_type": "code",
   "execution_count": null,
   "id": "afce8532-4ea6-4f4d-b0be-b7b3d4449bb8",
   "metadata": {},
   "outputs": [],
   "source": []
  },
  {
   "cell_type": "markdown",
   "id": "2f184ff1-41f5-4b57-92b6-d5eb6836956c",
   "metadata": {
    "tags": []
   },
   "source": [
    "### Importing data"
   ]
  },
  {
   "cell_type": "code",
   "execution_count": 9,
   "id": "8f9a148a-01df-4661-9f43-cf7b049273ab",
   "metadata": {
    "tags": []
   },
   "outputs": [],
   "source": [
    "import pandas as pd\n",
    "\n",
    "# Load the dataset into a pandas DataFrame\n",
    "df = pd.read_csv(r'C:\\Users\\alias\\Comp 6480 Natural Language Processing\\Project\\Project code\\Project Data\\data.csv')\n",
    "\n",
    "# Sample rows from the DataFrame\n",
    "sampled_papers = df.sample(n=10)"
   ]
  },
  {
   "cell_type": "code",
   "execution_count": 10,
   "id": "5ac493c5-8050-4648-8b37-285cda3a78fc",
   "metadata": {
    "tags": []
   },
   "outputs": [
    {
     "data": {
      "text/html": [
       "<div>\n",
       "<style scoped>\n",
       "    .dataframe tbody tr th:only-of-type {\n",
       "        vertical-align: middle;\n",
       "    }\n",
       "\n",
       "    .dataframe tbody tr th {\n",
       "        vertical-align: top;\n",
       "    }\n",
       "\n",
       "    .dataframe thead th {\n",
       "        text-align: right;\n",
       "    }\n",
       "</style>\n",
       "<table border=\"1\" class=\"dataframe\">\n",
       "  <thead>\n",
       "    <tr style=\"text-align: right;\">\n",
       "      <th></th>\n",
       "      <th>article</th>\n",
       "      <th>abstract</th>\n",
       "    </tr>\n",
       "  </thead>\n",
       "  <tbody>\n",
       "    <tr>\n",
       "      <th>124</th>\n",
       "      <td>in this paper , we propose a simple distribute...</td>\n",
       "      <td>the fairness of ieee 802.11 wireless networks...</td>\n",
       "    </tr>\n",
       "    <tr>\n",
       "      <th>1000</th>\n",
       "      <td>the construction of several new detectors of g...</td>\n",
       "      <td>gravitational wave detectors will need optima...</td>\n",
       "    </tr>\n",
       "    <tr>\n",
       "      <th>811</th>\n",
       "      <td>cervical carcinoma is the second most common c...</td>\n",
       "      <td>the mortality related to cervical cancer can ...</td>\n",
       "    </tr>\n",
       "    <tr>\n",
       "      <th>776</th>\n",
       "      <td>the marginalization paradox ( mp ) is an appar...</td>\n",
       "      <td>it has recently been shown that the marginali...</td>\n",
       "    </tr>\n",
       "    <tr>\n",
       "      <th>394</th>\n",
       "      <td>stochastic resonance is one of effects demonst...</td>\n",
       "      <td>the archetypal system demonstrating stochasti...</td>\n",
       "    </tr>\n",
       "    <tr>\n",
       "      <th>69</th>\n",
       "      <td>with the rapid growth in demand for higher dat...</td>\n",
       "      <td>in this article , we propose an improved mult...</td>\n",
       "    </tr>\n",
       "    <tr>\n",
       "      <th>340</th>\n",
       "      <td>the internet is by far the world s most crucia...</td>\n",
       "      <td>`` net neutrality '' often refers to the poli...</td>\n",
       "    </tr>\n",
       "    <tr>\n",
       "      <th>110</th>\n",
       "      <td>in fluid mechanics , the non - slip boundary c...</td>\n",
       "      <td>the composite torsional ultrasonic oscillator...</td>\n",
       "    </tr>\n",
       "    <tr>\n",
       "      <th>260</th>\n",
       "      <td>we define a _ sociotechnical system _ as one i...</td>\n",
       "      <td>following established tradition , software en...</td>\n",
       "    </tr>\n",
       "    <tr>\n",
       "      <th>427</th>\n",
       "      <td>the detection of the heart disease is very imp...</td>\n",
       "      <td>we compare the capability of wavelet function...</td>\n",
       "    </tr>\n",
       "  </tbody>\n",
       "</table>\n",
       "</div>"
      ],
      "text/plain": [
       "                                                article  \\\n",
       "124   in this paper , we propose a simple distribute...   \n",
       "1000  the construction of several new detectors of g...   \n",
       "811   cervical carcinoma is the second most common c...   \n",
       "776   the marginalization paradox ( mp ) is an appar...   \n",
       "394   stochastic resonance is one of effects demonst...   \n",
       "69    with the rapid growth in demand for higher dat...   \n",
       "340   the internet is by far the world s most crucia...   \n",
       "110   in fluid mechanics , the non - slip boundary c...   \n",
       "260   we define a _ sociotechnical system _ as one i...   \n",
       "427   the detection of the heart disease is very imp...   \n",
       "\n",
       "                                               abstract  \n",
       "124    the fairness of ieee 802.11 wireless networks...  \n",
       "1000   gravitational wave detectors will need optima...  \n",
       "811    the mortality related to cervical cancer can ...  \n",
       "776    it has recently been shown that the marginali...  \n",
       "394    the archetypal system demonstrating stochasti...  \n",
       "69     in this article , we propose an improved mult...  \n",
       "340    `` net neutrality '' often refers to the poli...  \n",
       "110    the composite torsional ultrasonic oscillator...  \n",
       "260    following established tradition , software en...  \n",
       "427    we compare the capability of wavelet function...  "
      ]
     },
     "execution_count": 10,
     "metadata": {},
     "output_type": "execute_result"
    }
   ],
   "source": [
    "sampled_papers"
   ]
  },
  {
   "cell_type": "markdown",
   "id": "dbe18178-a253-49ac-8808-e294a0252a28",
   "metadata": {},
   "source": [
    "## Making Model Inferences on sampled text data"
   ]
  },
  {
   "cell_type": "code",
   "execution_count": 11,
   "id": "b43f1496-05e4-4d7a-8d2a-1bb53b19985a",
   "metadata": {
    "tags": []
   },
   "outputs": [
    {
     "name": "stderr",
     "output_type": "stream",
     "text": [
      "Token indices sequence length is longer than the specified maximum sequence length for this model (2507 > 1024). Running this sequence through the model will result in indexing errors\n"
     ]
    }
   ],
   "source": [
    "# Summarize papers\n",
    "text_to_summarize = [paper for paper in sampled_papers['article']]\n",
    "base_summaries = generate_summary(model_base, text_to_summarize)\n",
    "finetuned_summaries = generate_summary(model_finetuned, text_to_summarize)"
   ]
  },
  {
   "cell_type": "markdown",
   "id": "d3fd852e-8df0-448c-ad49-e7beeec7c958",
   "metadata": {},
   "source": [
    "## Evaluation using ROGUE metrics"
   ]
  },
  {
   "cell_type": "code",
   "execution_count": 12,
   "id": "c65612d8-8ad5-4e82-b421-033f84a6edd5",
   "metadata": {
    "tags": []
   },
   "outputs": [
    {
     "name": "stdout",
     "output_type": "stream",
     "text": [
      "Average ROUGE-1 Precision: 0.12647109485897226\n",
      "Average ROUGE-1 Recall: 0.7852661555789336\n",
      "Average ROUGE-1 F-measure: 0.20870428667101126\n",
      "Average ROUGE-L Precision: 0.06993003082054862\n",
      "Average ROUGE-L Recall: 0.4543894185625896\n",
      "Average ROUGE-L F-measure: 0.11618387015927457\n"
     ]
    }
   ],
   "source": [
    "# Evaluating summaries\n",
    "from statistics import mean\n",
    "\n",
    "# Initializing the ROUGE scorer\n",
    "scorer = rouge_scorer.RougeScorer(['rouge1', 'rougeL'], use_stemmer=True)\n",
    "\n",
    "# Initializing lists to store scores\n",
    "rouge1_precision_scores = []\n",
    "rouge1_recall_scores = []\n",
    "rouge1_fmeasure_scores = []\n",
    "rougeL_precision_scores = []\n",
    "rougeL_recall_scores = []\n",
    "rougeL_fmeasure_scores = []\n",
    "\n",
    "# Evaluating summaries and collecting scores\n",
    "for i in range(len(base_summaries)):\n",
    "    reference_summary = sampled_papers.iloc[i]['abstract']\n",
    "    scores_base = scorer.score(reference_summary, base_summaries[i])\n",
    "    scores_finetuned = scorer.score(reference_summary, finetuned_summaries[i])\n",
    "    \n",
    "    rouge1_precision_scores.append((scores_base['rouge1'].precision + scores_finetuned['rouge1'].precision) / 2)\n",
    "    rouge1_recall_scores.append((scores_base['rouge1'].recall + scores_finetuned['rouge1'].recall) / 2)\n",
    "    rouge1_fmeasure_scores.append((scores_base['rouge1'].fmeasure + scores_finetuned['rouge1'].fmeasure) / 2)\n",
    "\n",
    "    rougeL_precision_scores.append((scores_base['rougeL'].precision + scores_finetuned['rougeL'].precision) / 2)\n",
    "    rougeL_recall_scores.append((scores_base['rougeL'].recall + scores_finetuned['rougeL'].recall) / 2)\n",
    "    rougeL_fmeasure_scores.append((scores_base['rougeL'].fmeasure + scores_finetuned['rougeL'].fmeasure) / 2)\n",
    "\n",
    "# Calculating the mean for each score\n",
    "mean_rouge1_precision = mean(rouge1_precision_scores)\n",
    "mean_rouge1_recall = mean(rouge1_recall_scores)\n",
    "mean_rouge1_fmeasure = mean(rouge1_fmeasure_scores)\n",
    "mean_rougeL_precision = mean(rougeL_precision_scores)\n",
    "mean_rougeL_recall = mean(rougeL_recall_scores)\n",
    "mean_rougeL_fmeasure = mean(rougeL_fmeasure_scores)\n",
    "\n",
    "# Printing the average scores\n",
    "print(f\"Average ROUGE-1 Precision: {mean_rouge1_precision}\")\n",
    "print(f\"Average ROUGE-1 Recall: {mean_rouge1_recall}\")\n",
    "print(f\"Average ROUGE-1 F-measure: {mean_rouge1_fmeasure}\")\n",
    "print(f\"Average ROUGE-L Precision: {mean_rougeL_precision}\")\n",
    "print(f\"Average ROUGE-L Recall: {mean_rougeL_recall}\")\n",
    "print(f\"Average ROUGE-L F-measure: {mean_rougeL_fmeasure}\")"
   ]
  },
  {
   "cell_type": "code",
   "execution_count": 13,
   "id": "76080f90-15a2-42cf-8a23-75d0f4c6d193",
   "metadata": {
    "tags": []
   },
   "outputs": [
    {
     "name": "stdout",
     "output_type": "stream",
     "text": [
      "Base Model Average ROUGE Scores:\n",
      "ROUGE-1: Precision: 0.14106882590983222, Recall: 0.7777511604645491, F-measure: 0.22850459219323685\n",
      "ROUGE-L: Precision: 0.0754015710877175, Recall: 0.4271123427886262, F-measure: 0.12263989262353243\n",
      "\n",
      "Fine-tuned Model Average ROUGE Scores:\n",
      "ROUGE-1: Precision: 0.1118733638081123, Recall: 0.7927811506933182, F-measure: 0.18890398114878568\n",
      "ROUGE-L: Precision: 0.06445849055337975, Recall: 0.48166649433655295, F-measure: 0.10972784769501673\n"
     ]
    }
   ],
   "source": [
    "from statistics import mean\n",
    "\n",
    "# Initialize lists to store scores for each model\n",
    "base_rouge1_precision, base_rouge1_recall, base_rouge1_fmeasure = [], [], []\n",
    "base_rougeL_precision, base_rougeL_recall, base_rougeL_fmeasure = [], [], []\n",
    "\n",
    "finetuned_rouge1_precision, finetuned_rouge1_recall, finetuned_rouge1_fmeasure = [], [], []\n",
    "finetuned_rougeL_precision, finetuned_rougeL_recall, finetuned_rougeL_fmeasure = [], [], []\n",
    "\n",
    "# Evaluate summaries and collect scores\n",
    "for i in range(len(base_summaries)):\n",
    "    reference_summary = sampled_papers.iloc[i]['abstract']\n",
    "    scores_base = scorer.score(reference_summary, base_summaries[i])\n",
    "    scores_finetuned = scorer.score(reference_summary, finetuned_summaries[i])\n",
    "    \n",
    "    # Collect base model scores\n",
    "    base_rouge1_precision.append(scores_base['rouge1'].precision)\n",
    "    base_rouge1_recall.append(scores_base['rouge1'].recall)\n",
    "    base_rouge1_fmeasure.append(scores_base['rouge1'].fmeasure)\n",
    "    base_rougeL_precision.append(scores_base['rougeL'].precision)\n",
    "    base_rougeL_recall.append(scores_base['rougeL'].recall)\n",
    "    base_rougeL_fmeasure.append(scores_base['rougeL'].fmeasure)\n",
    "\n",
    "    # Collect fine-tuned model scores\n",
    "    finetuned_rouge1_precision.append(scores_finetuned['rouge1'].precision)\n",
    "    finetuned_rouge1_recall.append(scores_finetuned['rouge1'].recall)\n",
    "    finetuned_rouge1_fmeasure.append(scores_finetuned['rouge1'].fmeasure)\n",
    "    finetuned_rougeL_precision.append(scores_finetuned['rougeL'].precision)\n",
    "    finetuned_rougeL_recall.append(scores_finetuned['rougeL'].recall)\n",
    "    finetuned_rougeL_fmeasure.append(scores_finetuned['rougeL'].fmeasure)\n",
    "\n",
    "# Function to calculate mean scores\n",
    "def calculate_mean_scores(scores):\n",
    "    return mean(scores['precision']), mean(scores['recall']), mean(scores['fmeasure'])\n",
    "\n",
    "# Calculate the mean for each score\n",
    "base_mean_rouge1 = calculate_mean_scores({\n",
    "    'precision': base_rouge1_precision, \n",
    "    'recall': base_rouge1_recall, \n",
    "    'fmeasure': base_rouge1_fmeasure\n",
    "})\n",
    "base_mean_rougeL = calculate_mean_scores({\n",
    "    'precision': base_rougeL_precision, \n",
    "    'recall': base_rougeL_recall, \n",
    "    'fmeasure': base_rougeL_fmeasure\n",
    "})\n",
    "\n",
    "finetuned_mean_rouge1 = calculate_mean_scores({\n",
    "    'precision': finetuned_rouge1_precision, \n",
    "    'recall': finetuned_rouge1_recall, \n",
    "    'fmeasure': finetuned_rouge1_fmeasure\n",
    "})\n",
    "finetuned_mean_rougeL = calculate_mean_scores({\n",
    "    'precision': finetuned_rougeL_precision, \n",
    "    'recall': finetuned_rougeL_recall, \n",
    "    'fmeasure': finetuned_rougeL_fmeasure\n",
    "})\n",
    "\n",
    "# Print the average scores for each model\n",
    "print(\"Base Model Average ROUGE Scores:\")\n",
    "print(f\"ROUGE-1: Precision: {base_mean_rouge1[0]}, Recall: {base_mean_rouge1[1]}, F-measure: {base_mean_rouge1[2]}\")\n",
    "print(f\"ROUGE-L: Precision: {base_mean_rougeL[0]}, Recall: {base_mean_rougeL[1]}, F-measure: {base_mean_rougeL[2]}\")\n",
    "\n",
    "print(\"\\nFine-tuned Model Average ROUGE Scores:\")\n",
    "print(f\"ROUGE-1: Precision: {finetuned_mean_rouge1[0]}, Recall: {finetuned_mean_rouge1[1]}, F-measure: {finetuned_mean_rouge1[2]}\")\n",
    "print(f\"ROUGE-L: Precision: {finetuned_mean_rougeL[0]}, Recall: {finetuned_mean_rougeL[1]}, F-measure: {finetuned_mean_rougeL[2]}\")\n"
   ]
  },
  {
   "cell_type": "code",
   "execution_count": 17,
   "id": "63eafb14-3781-4f94-af9e-cdb051fd5391",
   "metadata": {
    "tags": []
   },
   "outputs": [
    {
     "data": {
      "text/html": [
       "<div>\n",
       "<style scoped>\n",
       "    .dataframe tbody tr th:only-of-type {\n",
       "        vertical-align: middle;\n",
       "    }\n",
       "\n",
       "    .dataframe tbody tr th {\n",
       "        vertical-align: top;\n",
       "    }\n",
       "\n",
       "    .dataframe thead th {\n",
       "        text-align: right;\n",
       "    }\n",
       "</style>\n",
       "<table border=\"1\" class=\"dataframe\">\n",
       "  <thead>\n",
       "    <tr style=\"text-align: right;\">\n",
       "      <th></th>\n",
       "      <th>Model</th>\n",
       "      <th>ROUGE-1 Precision</th>\n",
       "      <th>ROUGE-1 Recall</th>\n",
       "      <th>ROUGE-1 F-measure</th>\n",
       "      <th>ROUGE-L Precision</th>\n",
       "      <th>ROUGE-L Recall</th>\n",
       "      <th>ROUGE-L F-measure</th>\n",
       "    </tr>\n",
       "  </thead>\n",
       "  <tbody>\n",
       "    <tr>\n",
       "      <th>0</th>\n",
       "      <td>Pegasus Large</td>\n",
       "      <td>0.141069</td>\n",
       "      <td>0.777751</td>\n",
       "      <td>0.228505</td>\n",
       "      <td>0.075402</td>\n",
       "      <td>0.427112</td>\n",
       "      <td>0.122640</td>\n",
       "    </tr>\n",
       "    <tr>\n",
       "      <th>1</th>\n",
       "      <td>Pegasus ArXiv</td>\n",
       "      <td>0.111873</td>\n",
       "      <td>0.792781</td>\n",
       "      <td>0.188904</td>\n",
       "      <td>0.064458</td>\n",
       "      <td>0.481666</td>\n",
       "      <td>0.109728</td>\n",
       "    </tr>\n",
       "  </tbody>\n",
       "</table>\n",
       "</div>"
      ],
      "text/plain": [
       "           Model  ROUGE-1 Precision  ROUGE-1 Recall  ROUGE-1 F-measure  \\\n",
       "0  Pegasus Large           0.141069        0.777751           0.228505   \n",
       "1  Pegasus ArXiv           0.111873        0.792781           0.188904   \n",
       "\n",
       "   ROUGE-L Precision  ROUGE-L Recall  ROUGE-L F-measure  \n",
       "0           0.075402        0.427112           0.122640  \n",
       "1           0.064458        0.481666           0.109728  "
      ]
     },
     "execution_count": 17,
     "metadata": {},
     "output_type": "execute_result"
    }
   ],
   "source": [
    "# Create a dictionary with the data\n",
    "data = {\n",
    "    \"Model\": [\"Pegasus Large\", \"Pegasus ArXiv\"],\n",
    "    \"ROUGE-1 Precision\": [base_mean_rouge1[0], finetuned_mean_rouge1[0]],\n",
    "    \"ROUGE-1 Recall\": [base_mean_rouge1[1], finetuned_mean_rouge1[1]],\n",
    "    \"ROUGE-1 F-measure\": [base_mean_rouge1[2], finetuned_mean_rouge1[2]],\n",
    "    \"ROUGE-L Precision\": [base_mean_rougeL[0], finetuned_mean_rougeL[0]],\n",
    "    \"ROUGE-L Recall\": [base_mean_rougeL[1], finetuned_mean_rougeL[1]],\n",
    "    \"ROUGE-L F-measure\": [base_mean_rougeL[2], finetuned_mean_rougeL[2]]\n",
    "}\n",
    "\n",
    "# Create the DataFrame\n",
    "rouge_scores_df = pd.DataFrame(data)\n",
    "\n",
    "# Display the DataFrame\n",
    "rouge_scores_df"
   ]
  },
  {
   "cell_type": "code",
   "execution_count": null,
   "id": "dc0d747f-f7aa-4063-b4c6-404b64fcfdf5",
   "metadata": {},
   "outputs": [],
   "source": []
  },
  {
   "cell_type": "code",
   "execution_count": 15,
   "id": "6a373c00-c3f2-49e7-aa36-2c2895d9c5d8",
   "metadata": {},
   "outputs": [
    {
     "data": {
      "image/png": "[encoded data removed]",
      "text/plain": [
       "<Figure size 1200x600 with 1 Axes>"
      ]
     },
     "metadata": {},
     "output_type": "display_data"
    }
   ],
   "source": [
    "import matplotlib.pyplot as plt\n",
    "\n",
    "# Data for plotting\n",
    "models = ['Pegasus Large', 'Pegasus ArXiv']\n",
    "rouge_1_precision = [base_mean_rouge1[0], finetuned_mean_rouge1[0]]\n",
    "rouge_1_recall = [base_mean_rouge1[1], finetuned_mean_rouge1[1]]\n",
    "rouge_1_fmeasure = [base_mean_rouge1[2], finetuned_mean_rouge1[2]]\n",
    "rouge_L_precision = [base_mean_rougeL[0], finetuned_mean_rougeL[0]]\n",
    "rouge_L_recall = [base_mean_rougeL[1], finetuned_mean_rougeL[1]]\n",
    "rouge_L_fmeasure = [base_mean_rougeL[2], finetuned_mean_rougeL[2]]\n",
    "\n",
    "x = range(len(models))  # the label locations\n",
    "\n",
    "# Creating the bar plot\n",
    "fig, ax = plt.subplots(figsize=(12, 6))\n",
    "ax.bar(x, rouge_1_precision, width=0.1, label='ROUGE-1 Precision')\n",
    "ax.bar(x, rouge_1_recall, width=0.1, bottom=rouge_1_precision, label='ROUGE-1 Recall')\n",
    "ax.bar(x, rouge_1_fmeasure, width=0.1, bottom=rouge_1_recall, label='ROUGE-1 F-measure')\n",
    "ax.bar(x, rouge_L_precision, width=0.1, bottom=rouge_1_fmeasure, label='ROUGE-L Precision')\n",
    "ax.bar(x, rouge_L_recall, width=0.1, bottom=rouge_L_precision, label='ROUGE-L Recall')\n",
    "ax.bar(x, rouge_L_fmeasure, width=0.1, bottom=rouge_L_recall, label='ROUGE-L F-measure')\n",
    "\n",
    "# Adding labels\n",
    "ax.set_xlabel('Models')\n",
    "ax.set_ylabel('Scores')\n",
    "ax.set_title('ROUGE Scores by Model')\n",
    "ax.set_xticks(x)\n",
    "ax.set_xticklabels(models)\n",
    "ax.legend()\n",
    "\n",
    "# Show the plot\n",
    "plt.show()"
   ]
  },
  {
   "cell_type": "code",
   "execution_count": 16,
   "id": "7ae2dd8f-487e-4c6d-897b-0d63db563718",
   "metadata": {},
   "outputs": [
    {
     "data": {
      "image/png": "[encoded data removed]",
      "text/plain": [
       "<Figure size 1200x600 with 1 Axes>"
      ]
     },
     "metadata": {},
     "output_type": "display_data"
    }
   ],
   "source": [
    "import matplotlib.pyplot as plt\n",
    "\n",
    "# Data Preparation\n",
    "models = ['Pegasus Large', 'Pegasus ArXiv']\n",
    "metrics = ['Precision', 'Recall', 'F-measure']\n",
    "rouge1_scores = [base_mean_rouge1, finetuned_mean_rouge1]\n",
    "rougeL_scores = [base_mean_rougeL, finetuned_mean_rougeL]\n",
    "\n",
    "# X-axis points\n",
    "x = range(len(models))\n",
    "\n",
    "# Plotting the Line Graph\n",
    "plt.figure(figsize=(12, 6))\n",
    "\n",
    "for i, metric in enumerate(metrics):\n",
    "    plt.plot(models, [score[i] for score in rouge1_scores], marker='o', label=f'ROUGE-1 {metric}')\n",
    "    plt.plot(models, [score[i] for score in rougeL_scores], marker='o', linestyle='--', label=f'ROUGE-L {metric}')\n",
    "\n",
    "plt.xlabel('Models')\n",
    "plt.ylabel('Scores')\n",
    "plt.title('ROUGE Scores Comparison')\n",
    "plt.legend()\n",
    "\n",
    "plt.show()"
   ]
  },
  {
   "cell_type": "code",
   "execution_count": null,
   "id": "3aa3298e-08f9-4e60-b0c9-56192bc0c9bf",
   "metadata": {},
   "outputs": [],
   "source": []
  },
  {
   "cell_type": "code",
   "execution_count": null,
   "id": "8691b8be-7f50-4368-acb1-9b67e81c0e8e",
   "metadata": {},
   "outputs": [],
   "source": []
  },
  {
   "cell_type": "code",
   "execution_count": null,
   "id": "8fc82a4f-18a5-4b36-afbe-904be11733f6",
   "metadata": {},
   "outputs": [],
   "source": []
  },
  {
   "cell_type": "code",
   "execution_count": null,
   "id": "762b8961-77f9-424f-b3a7-b2ebc0535282",
   "metadata": {},
   "outputs": [],
   "source": []
  },
  {
   "cell_type": "code",
   "execution_count": null,
   "id": "5a9028b1-9e44-47a6-b54c-53e64f444e35",
   "metadata": {},
   "outputs": [],
   "source": []
  },
  {
   "cell_type": "code",
   "execution_count": null,
   "id": "a84fe8d0-23b2-4170-bd4c-b670328a35e1",
   "metadata": {},
   "outputs": [],
   "source": []
  },
  {
   "cell_type": "code",
   "execution_count": null,
   "id": "8eef559f-46c5-4cc4-b784-d9c60d71e1ba",
   "metadata": {},
   "outputs": [],
   "source": []
  },
  {
   "cell_type": "code",
   "execution_count": null,
   "id": "05d30443-00e9-45b3-9c7b-c31ec2433da6",
   "metadata": {},
   "outputs": [],
   "source": []
  },
  {
   "cell_type": "code",
   "execution_count": null,
   "id": "0df44a54-88c0-4b51-9baa-57626e47f4f7",
   "metadata": {},
   "outputs": [],
   "source": []
  },
  {
   "cell_type": "code",
   "execution_count": null,
   "id": "1e15c3a5-6371-48d5-8d7f-5b8694233ff1",
   "metadata": {},
   "outputs": [],
   "source": []
  },
  {
   "cell_type": "code",
   "execution_count": null,
   "id": "368a0cda-d50a-46bf-97dc-a3b1164ccf61",
   "metadata": {},
   "outputs": [],
   "source": []
  },
  {
   "cell_type": "code",
   "execution_count": null,
   "id": "44fe4be9-f99f-4da8-9dc4-05f08584eb7e",
   "metadata": {},
   "outputs": [],
   "source": []
  },
  {
   "cell_type": "code",
   "execution_count": null,
   "id": "7a9eb04a-ebdb-4415-b0e9-23b78ff4ce0d",
   "metadata": {},
   "outputs": [],
   "source": []
  },
  {
   "cell_type": "code",
   "execution_count": null,
   "id": "1816058a-14e2-4ec0-8d28-b00d2c226759",
   "metadata": {},
   "outputs": [],
   "source": []
  },
  {
   "cell_type": "code",
   "execution_count": null,
   "id": "f100b97a-dc71-4bb0-a36e-a9b6c55ac2e7",
   "metadata": {},
   "outputs": [],
   "source": []
  },
  {
   "cell_type": "code",
   "execution_count": null,
   "id": "de494766-524b-4383-8df4-1c1b8e5ce339",
   "metadata": {},
   "outputs": [],
   "source": []
  },
  {
   "cell_type": "code",
   "execution_count": null,
   "id": "5f808908-267d-4b6d-a1b1-2092b5eefb66",
   "metadata": {},
   "outputs": [],
   "source": []
  },
  {
   "cell_type": "code",
   "execution_count": null,
   "id": "5a28e583-601b-45ec-9b20-e64943dbcd39",
   "metadata": {},
   "outputs": [],
   "source": []
  },
  {
   "cell_type": "code",
   "execution_count": null,
   "id": "a82ba36f-eded-42d2-85fc-7a01bb7162df",
   "metadata": {},
   "outputs": [],
   "source": []
  },
  {
   "cell_type": "code",
   "execution_count": null,
   "id": "db4151cb-714b-40b0-8c83-3a43ed82d0fe",
   "metadata": {},
   "outputs": [],
   "source": []
  },
  {
   "cell_type": "code",
   "execution_count": null,
   "id": "a40adb0d-2711-4b5f-974d-66a5959c7875",
   "metadata": {},
   "outputs": [],
   "source": []
  },
  {
   "cell_type": "markdown",
   "id": "2c3553fa-9be7-4b46-9d9a-a29563f344bf",
   "metadata": {},
   "source": [
    "## Saving Tokenizer and Model Weights to local PC"
   ]
  },
  {
   "cell_type": "code",
   "execution_count": 18,
   "id": "9dac9f53-f413-498a-bd08-319139f1bc77",
   "metadata": {
    "tags": []
   },
   "outputs": [],
   "source": [
    "tokenizer.save_pretrained('Summarizer_tokenizer/')\n",
    "model_base.save_pretrained('My_Pegasus_Large_Model/')\n",
    "model_finetuned.save_pretrained('My_Pegasus_ArXiv_Model/')"
   ]
  },
  {
   "cell_type": "code",
   "execution_count": null,
   "id": "9f53bfac-9271-4805-b922-7278a9cbc1e4",
   "metadata": {},
   "outputs": [],
   "source": []
  },
  {
   "cell_type": "code",
   "execution_count": null,
   "id": "612800bc-ea2e-40fa-9ab8-6ab7ac150cd3",
   "metadata": {},
   "outputs": [],
   "source": []
  },
  {
   "cell_type": "markdown",
   "id": "58bff859-ea37-40de-9712-cc8c222b21f6",
   "metadata": {},
   "source": [
    "## Creating a custom pipeline class for summarization for future use cases and Reusibility."
   ]
  },
  {
   "cell_type": "code",
   "execution_count": 20,
   "id": "3048e105-bfd0-485f-b36b-643ee47bb0a0",
   "metadata": {
    "tags": []
   },
   "outputs": [],
   "source": [
    "import pickle\n",
    "import nltk\n",
    "import pandas as pd\n",
    "import torch\n",
    "from transformers import PegasusTokenizer, PegasusForConditionalGeneration\n",
    "from concurrent.futures import ThreadPoolExecutor\n",
    "\n",
    "\n",
    "# Downloading NLTK data\n",
    "nltk.download('punkt')\n",
    "\n",
    "class SummarizationPipeline:\n",
    "    def __init__(self, model_name, tokenizer_name):\n",
    "        self.tokenizer = PegasusTokenizer.from_pretrained(tokenizer_name)\n",
    "        self.model = PegasusForConditionalGeneration.from_pretrained(model_name)\n",
    "        self.device = 'cuda' if torch.cuda.is_available() else 'cpu'\n",
    "        self.model.to(self.device)\n",
    "\n",
    "    def summarize(self, texts):\n",
    "        \n",
    "        \n",
    "        def _chunk_text(self, text, max_tokens):\n",
    "            sentences = nltk.tokenize.sent_tokenize(text)\n",
    "            current_chunk = []\n",
    "            chunks = []\n",
    "            current_len = 0\n",
    "\n",
    "            for sentence in sentences:\n",
    "                sentence_len = len(self.tokenizer.encode(sentence))\n",
    "                if current_len + sentence_len > max_tokens:\n",
    "                    chunks.append(\" \".join(current_chunk))\n",
    "                    current_chunk = []\n",
    "                    current_len = 0\n",
    "                current_chunk.append(sentence)\n",
    "                current_len += sentence_len\n",
    "\n",
    "            if current_chunk:\n",
    "                chunks.append(\" \".join(current_chunk))\n",
    "\n",
    "            return chunks\n",
    "\n",
    "        \n",
    "        \n",
    "    def _prepare_batches(self, texts, max_tokens, batch_size):\n",
    "        for text in texts:\n",
    "            chunks = self._chunk_text(text, max_tokens)\n",
    "            for i in range(0, len(chunks), batch_size):\n",
    "                yield chunks[i:i + batch_size]\n",
    "\n",
    "                \n",
    "                \n",
    "    def _summarize_batch(self, batch):\n",
    "        batch_tokens = self.tokenizer(batch, truncation=True, padding=True, return_tensors=\"pt\").to(self.device)\n",
    "        summary_ids = self.model.generate(**batch_tokens, max_length=150, min_length=40, length_penalty=2.0, num_beams=4, early_stopping=True)\n",
    "        return [self.tokenizer.decode(ids, skip_special_tokens=True) for ids in summary_ids]\n",
    "\n",
    "    \n",
    "    \n",
    "    def generate_summary(self, texts, max_tokens=512, batch_size=1):\n",
    "        all_summaries = []\n",
    "        with ThreadPoolExecutor() as executor:\n",
    "            for batch in self._prepare_batches(texts, max_tokens, batch_size):\n",
    "                futures = [executor.submit(self._summarize_batch, b) for b in batch]\n",
    "                results = [f.result() for f in futures]\n",
    "                document_summary = \" \".join(results)\n",
    "                all_summaries.append(document_summary)\n",
    "        return all_summaries\n",
    "        \n",
    "        \n",
    "        \n",
    "        \n",
    "        \n"
   ]
  },
  {
   "cell_type": "markdown",
   "id": "16e0b744-ac01-47b3-9650-a37388a4709c",
   "metadata": {},
   "source": []
  },
  {
   "cell_type": "code",
   "execution_count": 23,
   "id": "c99071f9-7886-4343-8de4-e8b18fb59ebf",
   "metadata": {
    "tags": []
   },
   "outputs": [],
   "source": []
  },
  {
   "cell_type": "code",
   "execution_count": 24,
   "id": "dbe0ec46-c7ce-42c6-a324-4419fa272773",
   "metadata": {
    "tags": []
   },
   "outputs": [
    {
     "data": {
      "text/plain": [
       "'feature selection is an important aspect in the implementation of machine learning methods .the appropriate selection of informative features can reduce generalisation error as well as the storage and processing requirements for large datasets .in addition , parsimonious models can provide valuable insight into the relations underlying elements of the process under examination .there is a wealth of literature on the subject of feature selection when the relationship between variables is linear .unfortunately when the relation is non - linear feature selection becomes substantially more nuanced .kernel methods excel in modelling non - linear relations .unsurprisingly , a number of kernel - based feature selection algorithms have been proposed .early propositions , such as recursive feature elimination(rfe ) [ 1 ] can be computationally prohibitive , while attempts to learn a convex combination of low - rank kernels may fail to encapsulate nonlinearities in the underlying relation .recent approaches using explicit kernel approximations can capture non - linear relations , but increase the storage and computational requirements .the successful use of a kernel - based feature selection methods is a matter of balance .our approach makes extensive use of _ kernel target alignment _ ( kta ) [ 2,3 ] .work in [ 4 ] provides the foundation of using the alignment of centred kernel matrices as the basis for measuring statistical dependence .the hilbert - schmidt independence criterion is the basis for further work in [ 5 ] , where greedy optimisation of centred alignment is employed for feature selection .additionally , [ 5 ] identifies numerous connections with other existing feature selection algorithms which can be considered as instances of the framework .stability selection [ 6 ] is a general framework for variable selection and structure estimation of high dimensional data .the core principle of stability selection is to combine subsampling with a sparse variable selection algorithm . by repeated estimation over a number of different subsamples, the framework keeps track of the number of times each variable was used , thus maintaining an estimate for the importance of each feature .more importantly , stability selection provides finite sample control for some error rates of false discoveries and hence a principled approach for parameter selection . in this work, we propose a synthesis of the two aforementioned approaches through a randomised feature selection algorithm based on estimating the statistical dependence between bootstrapped random subspaces of the dataset in rkhs .the dependence estimation of random subsets of variables is similar to the approach of [ 13 ] , which is extended through bootstrapping and carefully controlled feature set sizes .this approach is simple to implement and compares favourably with other methods in terms of scalability .the rest of the paper is structured as follows : _ section 2 _ presents the necessary background on feature selection for kernel - based learning ._ section 3 _ introduces a basic randomised algorithm for nonlinear feature selection , along with some simple examples , while _ section 4 _ provides some analysis .extensive experimentation on real and artificial data in _ section 5 _ concludes this paper .we consider the supervised learning problem of modelling the relationship between a input matrix and a corresponding output matrix .the simplest instance of such a problem is binary classification where the objective is the learning problem is to learn a function mapping input vectors to the desired outputs . in the binary casewe are presented with a matrix and a vector of outputs , limiting the class of discrimination functions to linear classifiers we wish to find a classifier   the linear learning formulation can be generalised to the nonlinear setting through the use of a nonlinear feature map , leading to the kernelized formulation :   the key quantities of interest in our approach is the centred kernel target alignment which is defined as :   the matrices and correspond to centred kernels on the features and outputs and are computed as :   k \\\\left [ i-{{11^t}\\\\over m } \\right]\\\\ ] ]  where , in the above equation denotes the m - dimensional vector with all entries set equal to one .the approach we will take will be based on the following well - known observation that links kernel target alignment with the degree to which an input space contains a linear projection that correlates with the target .let be a probability distribution on the product space , where has a projection into a hilbert space defined by a kernel .we have that } = & & \\\\ & & \\\\hspace{-5cm}= \\\\sup_{{\\\\mathbf{w } } : \\\\|{\\\\mathbf{w}}\\\\| \\\\leq 1 } { \\\\mathbb{e}}_{({\\\\mathbf{x}},y)\\\\sim p}[y\\\\langle{\\\\mathbf{w}},\\\\phi({\\\\mathbf{x}})\\rangle]\\\\end{aligned}\\\\ ] ]  * proof : * = & & \\\\ & & \\\\hspace*{-5cm}= \\\\sup_{{\\\\mathbf{w } } : \\\\|{\\\\mathbf{w}}\\\\| \\\\leq 1 }\\\\left\\\\langle{\\\\mathbf{w}},{\\\\mathbb{e}}_{({\\\\mathbf{x}},y)\\\\sim p}[\\\\phi({\\\\mathbf{x } } ) y]\\right\\rangle \\\\ & & \\\\hspace*{-5cm}= \\\\left\\\\| { \\\\mathbb{e}}_{({\\\\mathbf{x}},y)\\\\sim p}[\\\\phi({\\\\mathbf{x } } ) y]\\right\\\\|\\\\ & & \\\\hspace*{-5cm}=\\\\sqrt { \\\\int \\\\int dp({\\\\mathbf{x}},y)dp({\\\\mathbf{x}}\\',y \\' ) \\\\langle \\\\phi({\\\\mathbf{x}}),\\\\phi({\\\\mathbf{x}}\\')\\rangle  yy\\'}\\\\ & & \\\\hspace*{-5cm}= \\\\sqrt{{\\\\mathbb{e}}_{({\\\\mathbf{x}},y ) \\\\sim p , ( { \\\\mathbf{x } } \\' , y\\')\\\\sim p}[y y \\' \\\\kappa({\\\\mathbf{x}},{\\\\mathbf{x } } \\' ) ] } \\\\end{aligned}\\\\ ] ]  the proposition suggests that we can detect useful representations by measuring kernel target alignment . for non - linear functions the difficulty is to identify which combination of features creates a useful representation .we tackle this problem by sampling subsets of features and assessing whether on average the presence of a particular feature contributes to an increase in the average kernel target alignment . in this way we derive an empirical estimate of a quantitywe will term the contribution .  the _ contribution _ of feature is defined as \\right ] -  { \\\\mathbb{e}}_{s \\' \\\\sim { \\\\mathcal{s}}_{\\\\setminus i}}\\\\left[{\\\\mathbb{e}}_{({\\\\mathbf{x}},y ) \\\\sim p , ( { \\\\mathbf{x } } \\' , y\\')\\\\sim p}[y y \\' \\\\kappa_{s\\'}({\\\\mathbf{x}},{\\\\mathbf{x}}\\')]\\right],\\\\ ] ] where denotes the ( non - linear ) kernel using features in the set ( in our case this will be a gaussian kernel with equal width ) , the uniform distribution over sets of features of size that include the feature , the uniform distribution over sets of features of size that do not contain the feature , and is the number of features .  note that the two distributions over features and are matched in the sense that for each with non - zero probability in , has equal probability in .this approach is a straightforward extension of the idea of bahsic [ 5 ] .we will show that for variables that are independent of the target this contribution will be negative . on the other hand ,provided there are combinations of variables including the given variable that can generate significant correlations then the contribution of the variable will be positive .we will define an _ irrelevant _ feature to be one whose value is statistically independent of the label and of the other features .we would like an assurance that irrelevant features do not increase alignment .this is guaranteed for the gaussian kernel by the following result .let be a probability distribution on the product space , where has a projection into a hilbert space defined by the gaussian kernel on a set of features .suppose a feature is irrelevant .we have that \\\\leq { \\\\mathbb{e}}_{({\\\\mathbf{x}},y ) \\\\sim p , ( { \\\\mathbf{x } } \\' , y\\')\\\\sim p}[y y \\' \\\\kappa_{s}({\\\\mathbf{x}},{\\\\mathbf{x}}\\')]\\\\ ] ]  * proof ( sketch ) : * since the feature is independent of the target and the other features , functions of these features are also independent .hence , & & = { \\\\mathbb{e}}_{({\\\\mathbf{x}},y ) \\\\sim p , ( { \\\\mathbf{x } } \\' , y\\')\\\\sim p}[y y \\' \\\\kappa_{s}({\\\\mathbf{x}},{\\\\mathbf{x}}\\')\\\\exp(- \\\\gamma ( x_i - x\\'_i)^2)]\\\\ & & \\\\hspace*{-2.5cm}= { \\\\mathbb{e}}_{({\\\\mathbf{x}},y ) \\\\sim p , ( { \\\\mathbf{x } } \\' , y\\')\\\\sim p}[y y \\' \\\\kappa_{s}({\\\\mathbf{x}},{\\\\mathbf{x}}\\')]{\\\\mathbb{e}}_{({\\\\mathbf{x}},y ) \\\\sim p , ( { \\\\mathbf{x } } \\' , y\\')\\\\sim p}[\\\\exp(- \\\\gamma ( x_i - x\\'_i)^2)]\\\\ & & \\\\hspace*{-2.5cm}= { \\\\mathbb{e}}_{({\\\\mathbf{x}},y ) \\\\sim p , ( { \\\\mathbf{x } } \\' , y\\')\\\\sim p}[y y \\' \\\\kappa_{s}({\\\\mathbf{x}},{\\\\mathbf{x}}\\')]\\x07lpha\\\\end{aligned}\\\\ ] ] for \\\\leq 1 $ ] .  in fact the quantity is typically less than 1 so that adding irrelevant features decreases the alignment . our approach will be to progressively remove sets of features that are deemed to be irrelevant , hence increasing the alignment together with the signal to noise ratio for the relevant features .figure [ xor ] shows how progressively removing features from a learning problem whose output is the xor function of the first two features both increases the alignment contributions and helps to highlight the two relevant features .t    we now introduce our definition of a relevant feature .a feature will be termed -_influential _ when its contribution .so far have only considered expected alignment . in practice we must estimate this expectation from a finite sample .we will omit this part of the analysis as it is a straigthforward application of u - statistics that ensures that with high probability for a sufficiently large sample from and and of samples from ( whose sizes depend on , , the number of -influential variables and the number of iterations ) an empirical estimate of the contribution of an -influential variable will with probability at least be greater than 0 for all of the fixed number of iterations of the algorithm .our final ingredient is a method of removing irrelevant features that we will term culling . at each iteration of the algorithmthe contributions of all of the features are estimated using the required sample size and the contributions are sorted .we then remove the bottom 25% of the features in this ordering .our main result assures us that culling will work under the assumption that the irrelevant variables are independent .fix .suppose that there are -influential variables and all other variables are irrelevant .fix and number of iterations . given sufficiently many samplesas described above the culling algorithm will with probability at least remove only irrelevant variables will be removed .* proof ( sketch ) : * each irrelevant variable has expected contribution less than the contributions of the all the influential features .hence , with high probability at least 30% of these features will have lower contributions than all the influential features .hence , the bottom 25% will all be irrelevant .we now define our algorithm for randomised selection ( randsel ) . given a input matrix and corresponding output matrix , randsel proceeds by estimating the individual contribution of features by estimating the alignment of a number of random subsamples that include and randomly selected features .this leads to an estimate for the expected alignment contribution of including a feature .the algorithm is parametrized by the number of bootstraps , a bootstrap size and a percentage of features that are dropped after bootstraps .the algorithm proceeds iteratively until only two features remain .optionally the algorithm can be further parametrized by permanently including features which were ranked in the top percentile on at least a number occasions .this option enhances the probability of detecting non - linear dependencies between variables , should they be present .there are a number of benefits to this approach , aside from the tangible probabilistic guarantees .randsel scales gracefully . considering the computation of a kernel for samples atomic ,the number of kernel computations for a single iteration are , which for a sensible choice of can be substantially smaller than the complexity of hsic variants .for example setting and an iteration would require kernel element computations , and in addition this process is trivial to parallelize .input data , labels , number of iterations subsample size , number of features , drop percentile proportion , top percentile proportion , number of occasions = random subsample of size over randomly selected variables = alignment( ) = random subsample of size over randomly selected variables = alignment( ) mean contribution = mean ( ) - mean( ) , where and drop the % bottom - contributing features save the % top - contributing features fix feature return sequence of estimated contributions and fixed variablesin this section , we present several experiments comparing our feature selection approach to a number of competing methodologies .we have used three synthetic datasets in order to better illustrate the performance characteristics of these algorithms before proceeding to experiments on real data arising in infectious disease profiling .   in both synthetic and real datasetswe used nested 10-fold cross validation to perform feature selection , and repeated the simulations on three different reshuffles of the dataset to account for variance . for every iteration we estimate the validation error after feature selection before proceeding to test on the held out test - setthe inner cross - validation loop determines the number of features to use in classifying the test - set for optimal accuracy . if two or more models are tied in terms of performance , the more parsimonious model is preferred .we compare our proposed approach to kernel based algorithms like * rfe * , * fohsic * and * bahsic * , as well as a filtering approach relying on * correlation coefficients * and * stability selection * using the lasso as the underlying sparse selection algorithm . the same range of gaussian kernel bandwidths was explored in all algorithms and the resulting final classifiers employed a regularisation parameter of .we generated three synthetic datasets in order to carefully illustrate the properties of the different feature selection algorithms .all three synthetic datasets contain 300 samples with a dimensionality of 100 features .the linear and non - linear weston datasets were generated according to [ 7 ] , and consist of 5 relevant and 95 noise features .neither the linear or non - linear weston datasets exhibit a nonlinear interdependence between features .we produced a simple xor pattern dataset in order to simulate this scenario .along with the accuracy on the test set and the sparsity we also record the precision and recall of the selection algorithms .analogously to information retrieval , we define the precision as the number of the relevant features that were selected from the feature selection procedure over the total number of features selected and recall as the number of relevant features selected over the total number of relevant features ..results on synthetic data .[ cols= \" < , < , < , < , < , < , < , < , < \" , ]   for the mass spectrometry tasks we used randsel using 5000 bootstraps of size of the dataset , culling the bottom of variables in terms of expected contribution after the end of each iteration .we used similar parameters for the micro - array dataset but with an increased number of bootstraps of 10000 in order to account for the substantially higher dimensionality of the data .again , no variables were fixed and the algorithm iterated until only two variables remained . in _ task 1 _ , randomized selection is tied with stability selection in terms of accuracy , however on average the randomised recovered feature set is significantly sparser .interestingly , simple filtering based on correlation coefficients performs strongly in the mass spectrometry tasks , often beating the hsic variants and in fact gives the highest accuracy for _ task 2_. the only test where all the hsic variants outperformed correlation filtering is the microarray task , which has a substantially increased dimensionality in comparison to the mass spectrometry datasets .the results indicate that the hsic - based variants ( randsel , fohsic & bahsic ) often recover sparser solutions compared to competing algorithms .given their mutual reliance on hsic optimisation , the fact that randsel outperforms the other methods in terms of accuracy can be surprising at first glance .it is instructive at this point to acknowledge that these methods rely on heuristics to solve an np - hard problem .the synthetic xor dataset already underlines one scenario where randsel outperforms forward greedy selection .the results on real data , combined with our theoretical guarantees , suggest the possibility of arriving at an improved global solution through randsel s incorporation of stochastic information , in opposition to the strategy of obliviously eliminating the locally optimal variable employed in bahsic .   a final experimental application where we employed randomised selection was in the recent black box learning challenge [ 10][13 ] .after performing an initial unsupervised feature learning step on the original dataset using sparse filtering [ 11 ] , we performed randomised selection in the resulting representation , creating kernels corresponding to the remaining features after each iteration of the feature selection algorithm . treating each kernel as defining a class of weak learners , we used lpboost to perform multiple kernel learning ( lpboostmkl [ 12 ] ) .the resulting classifier beat many of our other approaches and was one of the strongest performers in the challenge .in this paper we propose randsel , a new algorithm for non - linear feature selection based on randomised estimates of hsic .randsel , stochastically estimates the expected importance of features at each iteration , proceeding to cull features uninformative features at the end of each iteration .our theoretical analysis gives strong guarantees for the expected performance of this procedure which is further demonstrated by testing on a number of real and artificial datasets .this , combined with the algorithm s attractive scaling properties make randsel a strong proposition for use in application areas such as quantitative biology , where the volume of data increases at a frantic pace .goodfellow , i. j. , erhan , d. , carrier , p. l. , courville , a. , mirza , m. , hamner , b. , ... & bengio , y. ( 2013 ) challenges in representation learning : a report on three machine learning contests .proceedings of the 20th international conference on neural information processing'"
      ]
     },
     "execution_count": 24,
     "metadata": {},
     "output_type": "execute_result"
    }
   ],
   "source": []
  },
  {
   "cell_type": "code",
   "execution_count": null,
   "id": "c8a370da-40a9-4ea5-a7c4-8fe041c3ec9b",
   "metadata": {},
   "outputs": [],
   "source": []
  },
  {
   "cell_type": "code",
   "execution_count": null,
   "id": "1fa6930f-e04c-4791-9e5a-16fadfb36041",
   "metadata": {},
   "outputs": [],
   "source": []
  },
  {
   "cell_type": "code",
   "execution_count": null,
   "id": "a33a3e11-a9a4-4926-8724-69f366a8f277",
   "metadata": {},
   "outputs": [],
   "source": []
  },
  {
   "cell_type": "code",
   "execution_count": null,
   "id": "78bcae6b-94d9-4054-952c-4c811c69deb6",
   "metadata": {},
   "outputs": [],
   "source": []
  },
  {
   "cell_type": "code",
   "execution_count": null,
   "id": "a8ad509f-360d-48dd-b18a-03b7a59b78e8",
   "metadata": {},
   "outputs": [],
   "source": []
  },
  {
   "cell_type": "code",
   "execution_count": null,
   "id": "9e510f7f-dde7-4e8a-bc0b-ff85c4dc9cdf",
   "metadata": {},
   "outputs": [],
   "source": []
  },
  {
   "cell_type": "code",
   "execution_count": null,
   "id": "520bc718-39a3-4a70-a342-3c0fc07a3ea3",
   "metadata": {},
   "outputs": [],
   "source": []
  },
  {
   "cell_type": "code",
   "execution_count": null,
   "id": "d236dbf9-d784-4a2e-8818-7cca37b28bf3",
   "metadata": {},
   "outputs": [],
   "source": []
  }
 ],
 "metadata": {
  "kernelspec": {
   "display_name": "Python 3 (ipykernel)",
   "language": "python",
   "name": "python3"
  },
  "language_info": {
   "codemirror_mode": {
    "name": "ipython",
    "version": 3
   },
   "file_extension": ".py",
   "mimetype": "text/x-python",
   "name": "python",
   "nbconvert_exporter": "python",
   "pygments_lexer": "ipython3",
   "version": "3.11.5"
  }
 },
 "nbformat": 4,
 "nbformat_minor": 5
}
